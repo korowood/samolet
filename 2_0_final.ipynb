{
 "cells": [
  {
   "cell_type": "code",
   "execution_count": 8,
   "metadata": {
    "colab": {
     "base_uri": "https://localhost:8080/"
    },
    "id": "x1LjtpEgr9LT",
    "outputId": "24917edb-cacd-4e1d-8a34-9dcb354cfa21"
   },
   "outputs": [
    {
     "name": "stdout",
     "output_type": "stream",
     "text": [
      "Drive already mounted at /content/drive; to attempt to forcibly remount, call drive.mount(\"/content/drive\", force_remount=True).\n"
     ]
    }
   ],
   "source": [
    "from sklearn.model_selection import train_test_split\n",
    "import seaborn as sns\n",
    "from sklearn.metrics import accuracy_score, classification_report\n",
    "import matplotlib.pyplot as plt\n",
    "from tqdm.notebook import tqdm\n",
    "import random\n",
    "import os\n",
    "import re\n",
    "import torch\n",
    "import pandas as pd\n",
    "import numpy as np\n",
    "%matplotlib inline\n",
    "import warnings\n",
    "warnings.filterwarnings('ignore')\n",
    "\n",
    "from google.colab import drive\n",
    "drive.mount('/content/drive')\n",
    "\n",
    "!mkdir -p data\n",
    "!cp drive/MyDrive/samolet/train_dataset_Самолет.csv data\n",
    "\n",
    "def seed_everything(seed=7575):\n",
    "    random.seed(seed)\n",
    "    os.environ['PYTHONHASHSEED']=str(seed)\n",
    "    np.random.seed(seed)\n",
    "\n",
    "    torch.manual_seed(seed)\n",
    "    torch.cuda.manual_seed(seed)\n",
    "    torch.backends.cudnn.deterministic = True\n",
    "\n",
    "seed_everything()"
   ]
  },
  {
   "cell_type": "markdown",
   "metadata": {
    "id": "O28CveM2wXG9"
   },
   "source": [
    "Подгружаем и размечаем данные"
   ]
  },
  {
   "cell_type": "code",
   "execution_count": 30,
   "metadata": {
    "colab": {
     "base_uri": "https://localhost:8080/"
    },
    "id": "gWqGCL9UtI4u",
    "outputId": "f24e04cc-0ddf-4d4d-d2a4-ce1ed39ddc8e"
   },
   "outputs": [
    {
     "name": "stdout",
     "output_type": "stream",
     "text": [
      "Train shape: (11483, 2666)\n",
      "OOS shape: (1960, 2666)\n",
      "OOT shape: (747, 2666)\n",
      "Train bad rate: 2.95%\n",
      "OOS bad rate: 4.18%\n",
      "OOT bad rate: 1.87%\n"
     ]
    }
   ],
   "source": [
    "import numpy as np\n",
    "import pandas as pd\n",
    "\n",
    "\n",
    "def split_data(data, id_col='client_id', data_col='report_date', target_col='target', oos_rate=0.15, oot_date='2023-02-01', seed=7575):\n",
    "  # OOT split\n",
    "  data.loc[data[data_col] == oot_date, 'test_flag'] = 'oot'\n",
    "  train_oos_client_id_set = set(data[data['test_flag'] != 'oot'][id_col].unique())\n",
    "  data.loc[(data['test_flag'] == 'oot') & (~data[id_col].isin(train_oos_client_id_set)), 'test_flag'] = 'oot_full'\n",
    "\n",
    "  # OOS split\n",
    "  rng = np.random.default_rng(seed=seed)\n",
    "  train_oos = data[~data['test_flag'].isin(['oot', 'oot_full'])]\n",
    "  train_oos_target0_client_id_list = sorted(list(train_oos[train_oos[target_col] == 0][id_col].unique()))\n",
    "  train_oos_target1_client_id_list = sorted(list(train_oos[train_oos[target_col] == 1][id_col].unique()))\n",
    "\n",
    "  oos_count = round(len(train_oos_client_id_set) * oos_rate)\n",
    "  train_oos_bad_rate = train_oos['target'].sum() / train_oos.shape[0]\n",
    "\n",
    "  oos_target0_client_id_list = rng.choice(train_oos_target0_client_id_list, round(oos_count * (1-train_oos_bad_rate)))\n",
    "  oos_target1_client_id_list = rng.choice(train_oos_target1_client_id_list, round(oos_count * train_oos_bad_rate))\n",
    "\n",
    "  data.loc[data[id_col].isin(oos_target0_client_id_list), 'test_flag'] = 'oos'\n",
    "  data.loc[data[id_col].isin(oos_target1_client_id_list), 'test_flag'] = 'oos'\n",
    "  data.loc[~data['test_flag'].isin(['oos', 'oot', 'oot_full']), 'test_flag'] = 'train'\n",
    "  return data\n",
    "\n",
    "data = pd.read_csv('data/train_dataset_Самолет.csv')\n",
    "data = split_data(data, id_col='client_id', data_col='report_date', target_col='target', oos_rate=0.15, oot_date='2023-02-01', seed=7575)\n",
    "\n",
    "train = data[data['test_flag'] == 'train'].drop(columns=['test_flag'])\n",
    "oos = data[data['test_flag'] == 'oos'].drop(columns=['test_flag'])\n",
    "oot = data[data['test_flag'] == 'oot'].drop(columns=['test_flag'])\n",
    "\n",
    "print(f\"Train shape: {train.shape}\")\n",
    "print(f\"OOS shape: {oos.shape}\")\n",
    "print(f\"OOT shape: {oot.shape}\")\n",
    "print(f\"Train bad rate: {round((train['target'].sum() / train.shape[0]) * 100, 2)}%\")\n",
    "print(f\"OOS bad rate: {round((oos['target'].sum() / oos.shape[0]) * 100, 2)}%\")\n",
    "print(f\"OOT bad rate: {round((oot['target'].sum() / oot.shape[0]) * 100, 2)}%\")"
   ]
  },
  {
   "cell_type": "code",
   "execution_count": 24,
   "metadata": {
    "id": "0diZGXlMzlxP"
   },
   "outputs": [],
   "source": [
    "id_cols = ['test_flag', 'report_date', 'target', 'client_id']"
   ]
  },
  {
   "cell_type": "markdown",
   "metadata": {
    "id": "G1Yn-f5Zw38r"
   },
   "source": [
    "## Categorical features"
   ]
  },
  {
   "cell_type": "code",
   "execution_count": 32,
   "metadata": {
    "id": "N4GCt7yaybOs"
   },
   "outputs": [],
   "source": [
    "data['client_id'] = data['client_id'].astype(str)\n",
    "df_categorical = data.select_dtypes(exclude=[np.number])\n",
    "data['client_id'] = data['client_id'].astype(int)\n",
    "data_category = data[df_categorical.columns.tolist() + ['target']].copy()"
   ]
  },
  {
   "cell_type": "markdown",
   "metadata": {
    "id": "OrFDoqj6xycP"
   },
   "source": [
    "### Binary links features"
   ]
  },
  {
   "cell_type": "code",
   "execution_count": 26,
   "metadata": {
    "colab": {
     "base_uri": "https://localhost:8080/"
    },
    "id": "zg-xKBvtu_xp",
    "outputId": "b7a0db61-82ba-45f0-e65d-617849fd549a"
   },
   "outputs": [
    {
     "name": "stdout",
     "output_type": "stream",
     "text": [
      "Признаки, в которых встречается ссылка:\n",
      "['col49', 'col50', 'col51', 'col52', 'col53', 'col54', 'col55', 'col56', 'col221', 'col222', 'col223', 'col224', 'col225', 'col226', 'col227', 'col228', 'col237', 'col238', 'col239', 'col240', 'col241', 'col242', 'col243', 'col244', 'col457', 'col458', 'col459', 'col460', 'col461', 'col462', 'col463', 'col464', 'col551', 'col553', 'col554', 'col555', 'col556', 'col557', 'col558', 'col559', 'col560', 'col1046', 'col1047', 'col1048', 'col1049', 'col1050', 'col1051', 'col1052']\n",
      "Их количество: 48\n"
     ]
    }
   ],
   "source": [
    "def contains_link(text):\n",
    "    return bool(re.search(r'http[s]?://(?:[a-zA-Z]|[0-9]|[$-_@.&+]|[!*\\\\(\\\\),]|(?:%[0-9a-fA-F][0-9a-fA-F]))+', text))\n",
    "\n",
    "# Создайте список признаков, в которых есть ссылка\n",
    "columns_with_links = [col for col in data_category.columns if data_category[col].astype(str).apply(contains_link).any()]\n",
    "\n",
    "print(\"Признаки, в которых встречается ссылка:\")\n",
    "print(columns_with_links)\n",
    "print(f\"Их количество: {len(columns_with_links)}\")"
   ]
  },
  {
   "cell_type": "code",
   "execution_count": 33,
   "metadata": {
    "id": "SHrMpuantI1C"
   },
   "outputs": [],
   "source": [
    "cols_samolet = [\n",
    "    'col49', # 5 ссылок на  самолет\n",
    "    'col50', # 10 ссылок на  самолет\n",
    "    'col51', # 20 ссылок на  самолет\n",
    "    'col52', # 107 ссылок на  самолет\n",
    "    'col53', # 5 ссылок на  самолет\n",
    "    'col54', # 10 ссылок на  самолет\n",
    "    'col55', # 20 ссылок на  самолет\n",
    "    'col56', # 120 ссылок на  самолет\n",
    "    'col221', # 20 ссылок на  самолет\n",
    "    'col222', # 141 ссылок на  самолет\n",
    "    'col223', # 270 ссылок на  самолет\n",
    "    'col224', # 556 ссылок на  самолет\n",
    "    'col225', # 175 ссылок на  самолет\n",
    "    'col226', # 307 ссылок на  самолет\n",
    "    'col227', # 478 ссылок на  самолет\n",
    "    'col228', # 809 ссылок на  самолет\n",
    "]\n",
    "\n",
    "col_parking = [\n",
    "    'col237', # 10 ссылок на паркинг\n",
    "    'col238', # 30 ссылок на паркинг\n",
    "    'col239', # 64 ссылок на паркинг\n",
    "    'col240', # 148 ссылок на паркинг\n",
    "    'col241', # 20 ссылок на паркинг\n",
    "    'col242', # 62 ссылок на паркинг\n",
    "    'col243', # 99 ссылок на паркинг\n",
    "    'col244', # 190 ссылок на паркинг\n",
    "]\n",
    "\n",
    "cols_flats = [\n",
    "    'col457', # 50 ссылок на квартиры\n",
    "    'col458', # 124 ссылок на квартиры\n",
    "    'col459', # 238 ссылок на квартиры\n",
    "    'col460', # 589 ссылок на квартиры\n",
    "    'col461', # 211 ссылок на квартиры\n",
    "    'col462', # 363 ссылок на квартиры\n",
    "    'col463', # 545 ссылок на квартиры\n",
    "    'col464', # 891 ссылок на квартиры\n",
    "]\n",
    "\n",
    "cols_dir = [ # какие то переходы в директории\n",
    "    'col551', # 1108 ссылок\n",
    "    'col552', # 1577 ссылок\n",
    "    'col1046', # 40 ссылок\n",
    "    'col1047', # 107 ссылок\n",
    "    'col1048', # 250 ссылок\n",
    "    'col1049', # 40 ссылок\n",
    "    'col1050', # 126 ссылок\n",
    "    'col1051', # 231 ссылок\n",
    "    'col1052', # 481 ссылок\n",
    "]\n",
    "\n",
    "cols_random = [ #какие то рандомные ссылки в том числе самолет\n",
    "    'col553', # 63 ссылок\n",
    "    'col554', # 139 ссылок\n",
    "    'col555', # 286 ссылок\n",
    "    'col556', # 571 ссылок\n",
    "    'col557', # 430 ссылок\n",
    "    'col558', # 626 ссылок\n",
    "    'col559', # 908 ссылок\n",
    "    'col560', # 1308 ссылок\n",
    "]\n",
    "\n",
    "cols_leak = [\n",
    "    'col1454'\n",
    "]\n",
    "\n",
    "data_category[\"parking\"]=data_category[col_parking].fillna(value='0').apply(lambda row: 0 if all(value == \"0\" for value in row) else 1, axis=1)\n",
    "data_category[\"samolet\"]=data_category[cols_samolet].fillna(value='0').apply(lambda row: 0 if all(value == \"0\" for value in row) else 1, axis=1)\n",
    "data_category[\"flats\"]=data_category[cols_flats].fillna(value='0').apply(lambda row: 0 if all(value == \"0\" for value in row) else 1, axis=1)\n",
    "data_category[\"dir\"]=data_category[cols_dir].fillna(value='0').apply(lambda row: 0 if all(value == \"0\" for value in row) else 1, axis=1)"
   ]
  },
  {
   "cell_type": "markdown",
   "metadata": {
    "id": "oRsX1DWNx4tk"
   },
   "source": [
    "### Drop low fullness features"
   ]
  },
  {
   "cell_type": "code",
   "execution_count": 34,
   "metadata": {
    "colab": {
     "base_uri": "https://localhost:8080/"
    },
    "id": "pqom5nnstIy5",
    "outputId": "02980d8e-7635-4f91-f4aa-bc844431670a"
   },
   "outputs": [
    {
     "name": "stdout",
     "output_type": "stream",
     "text": [
      "Droped cols: 128\n"
     ]
    }
   ],
   "source": [
    "def drop_fullness_cols(data, num=60):\n",
    "  num_cols_before = data.shape[1]\n",
    "  fullness_count = data.notna().sum(axis=0)\n",
    "  data = data[(fullness_count[fullness_count >= num]).index]\n",
    "  num_cols_after = data.shape[1]\n",
    "  print(f\"Droped cols: {num_cols_before - num_cols_after}\")\n",
    "  return data\n",
    "\n",
    "data_category = drop_fullness_cols(data_category, num=60)"
   ]
  },
  {
   "cell_type": "markdown",
   "metadata": {
    "id": "4cq2j9UOzVNt"
   },
   "source": [
    "### Concat features groups"
   ]
  },
  {
   "cell_type": "code",
   "execution_count": 35,
   "metadata": {
    "colab": {
     "base_uri": "https://localhost:8080/"
    },
    "id": "WQdYPy0EtIvR",
    "outputId": "b0045030-5382-46bd-e4f1-c8467bf15a53"
   },
   "outputs": [
    {
     "name": "stderr",
     "output_type": "stream",
     "text": [
      "100%|██████████| 221/221 [00:00<00:00, 454.30it/s]\n",
      "100%|██████████| 55/55 [00:14<00:00,  3.73it/s]\n"
     ]
    }
   ],
   "source": [
    "df_tmp = data_category[[col for col in data_category.columns if col not in id_cols+['parking', 'samolet', 'flats', 'dir']]]\n",
    "agg_cols_dict = dict()\n",
    "orig_col = df_tmp.columns[0]\n",
    "for i in tqdm(range(1, len(df_tmp.columns))):\n",
    "  notna_mask = df_tmp[df_tmp.columns[i-1]].notna()\n",
    "  if ((df_tmp.loc[notna_mask, orig_col].fillna(-1) == df_tmp.loc[notna_mask, df_tmp.columns[i]].fillna(-1)).sum() / notna_mask.sum()) > 0.4:\n",
    "    agg_cols_dict[orig_col] = agg_cols_dict.get(orig_col, list()) + [df_tmp.columns[i-1]]\n",
    "  else:\n",
    "    orig_col = df_tmp.columns[i]\n",
    "\n",
    "for col in tqdm(agg_cols_dict.keys()):\n",
    "  data_category[col] = data_category[agg_cols_dict[col]].apply(lambda row: '_'.join(row.values.astype(str)), axis=1)\n",
    "data_category = data_category[id_cols+['parking', 'samolet', 'flats', 'dir']+list(agg_cols_dict.keys())]"
   ]
  },
  {
   "cell_type": "code",
   "execution_count": 36,
   "metadata": {
    "id": "cATMZCRX4SDp"
   },
   "outputs": [],
   "source": [
    "categorical_features_list = [col for col in data_category.columns if col not in id_cols+cols_samolet+cols_leak+col_parking+cols_flats+cols_dir+cols_random]"
   ]
  },
  {
   "cell_type": "markdown",
   "metadata": {
    "id": "w6EGwbuD0HzY"
   },
   "source": [
    "## Numerical features"
   ]
  },
  {
   "cell_type": "code",
   "execution_count": 12,
   "metadata": {
    "id": "06a14c0f"
   },
   "outputs": [],
   "source": [
    "from tqdm import tqdm\n",
    "\n",
    "def do_num_feat(data_new):\n",
    "\n",
    "    num_columns = []\n",
    "    for col in tqdm(data_new.columns):\n",
    "        try:\n",
    "            data_new[col] = data_new[col].astype(float)\n",
    "        except:\n",
    "            continue\n",
    "        num_columns.append(col)\n",
    "\n",
    "    cols1 = []\n",
    "    cols2 = []\n",
    "    cols3 = []\n",
    "    cols4 = []\n",
    "    cols5 = []\n",
    "    cols6 = []\n",
    "    cols7 = []\n",
    "    cols8 = []\n",
    "    other = []\n",
    "\n",
    "    for col in tqdm(num_columns[2:]):\n",
    "        tmp = np.mean(data_new[col].astype(float).dropna().unique())\n",
    "        if tmp < 0:\n",
    "            cols1.append(col)\n",
    "        elif tmp >= 0 and tmp <= 1:\n",
    "            cols2.append(col)\n",
    "        elif tmp > 1 and tmp <= 3:\n",
    "            cols3.append(col)\n",
    "        elif tmp > 3 and tmp < 15:\n",
    "            cols4.append(col)\n",
    "        elif tmp >= 15 and tmp < 1000:\n",
    "            cols5.append(col)\n",
    "        elif tmp >= 1000 and tmp < 10000:\n",
    "            cols6.append(col)\n",
    "        elif tmp >= 10000 and tmp < 1000000:\n",
    "            cols7.append(col)\n",
    "        elif tmp >= 1000000:\n",
    "            cols8.append(col)\n",
    "        else:\n",
    "            other.append(col)\n",
    "\n",
    "    for i, cols in enumerate([cols1, cols2, cols3, cols4, cols5, cols6, cols7, cols8]):\n",
    "        tmp = data_new[[\"client_id\",\"report_date\"] + cols].copy()\n",
    "        tmp = tmp.dropna(how='all', subset=cols)\n",
    "        tmp['mean_group_' + str(i+1)] = tmp[cols].mean(axis=1)\n",
    "        tmp['max_group_' + str(i+1)] = tmp[cols].max(axis=1)\n",
    "        tmp['min_group_' + str(i+1)] = tmp[cols].min(axis=1)\n",
    "        tmp = tmp.drop(cols, axis=1)\n",
    "        data_new = data_new.merge(tmp, on=[\"client_id\",\"report_date\"], how='left')\n",
    "    return data_new\n",
    "\n",
    "def do_target_before(dataset):\n",
    "    one_unique = dataset[dataset.target == 1].client_id.unique()\n",
    "    data1 = dataset[dataset.client_id.isin(one_unique)][[\"report_date\", \"client_id\", \"target\"]].sort_values(by=[\"client_id\", \"report_date\"])\n",
    "    data1[\"target_before\"] = 0.0\n",
    "    for idx in tqdm(one_unique):\n",
    "        index_cl = data1[data1.client_id==idx].index.to_list()\n",
    "        data1.loc[index_cl, \"target_before\"] = data1[data1.client_id==idx].target.shift(1).values\n",
    "    data_new = dataset.merge(data1[[\"report_date\", \"client_id\", \"target_before\"]], on=[\"report_date\", \"client_id\"], how='left')\n",
    "    print(data_new.shape)\n",
    "    data_new.target_before = data_new.target_before.fillna(0)\n",
    "    return data_new\n",
    "\n",
    "def do_count_befor(dataset):\n",
    "    dataf = dataset[[\"report_date\",\"client_id\",\"target\"]].sort_values(by=[\"report_date\"])\n",
    "    dataf['count_befor'] = 0\n",
    "    dict_id = dict()\n",
    "    for i in range(dataf.shape[0]):\n",
    "        id_tmp = dataf.iloc[i, 1]\n",
    "        if dict_id.get(id_tmp) is None:\n",
    "            dict_id[id_tmp] = 1\n",
    "        else:\n",
    "            dict_id[id_tmp] += 1\n",
    "        dataf.iloc[i, 3] = dict_id[id_tmp]\n",
    "    dataset = dataset.merge(dataf[[\"report_date\", \"client_id\", \"count_befor\"]], on=[\"report_date\", \"client_id\"], how='left')\n",
    "    return dataset\n",
    "\n",
    "def fill_id_na(dataset):\n",
    "\n",
    "    data_sort = dataset.sort_values(by=['client_id', 'report_date'])\n",
    "    data_sort.index = range(data_sort.shape[0])\n",
    "    freq_id = data_sort.client_id.value_counts()[data_sort.client_id.value_counts() > 1].index.to_list()\n",
    "    data_sort_np = data_sort.to_numpy()\n",
    "\n",
    "    idx_list = []\n",
    "    for idn in tqdm(freq_id):\n",
    "        idx_list.append(data_sort[data_sort.client_id==idn].index.to_list())\n",
    "\n",
    "    for idx in tqdm(idx_list):\n",
    "        for i in range(1, len(idx)):\n",
    "            np.putmask(data_sort_np[idx[i], :], pd.isnull(data_sort_np[idx[i], :]), data_sort_np[idx[i-1], :])\n",
    "\n",
    "    data_s = pd.DataFrame(data_sort_np, columns=data_sort.columns)\n",
    "    return data_s"
   ]
  },
  {
   "cell_type": "code",
   "execution_count": 14,
   "metadata": {
    "colab": {
     "base_uri": "https://localhost:8080/"
    },
    "id": "66b36d30",
    "outputId": "89f2c1c6-2038-4377-b86d-57831bbed07b"
   },
   "outputs": [
    {
     "name": "stderr",
     "output_type": "stream",
     "text": [
      "100%|██████████| 183/183 [00:00<00:00, 460.95it/s]\n"
     ]
    },
    {
     "name": "stdout",
     "output_type": "stream",
     "text": [
      "(14456, 2667)\n"
     ]
    },
    {
     "name": "stderr",
     "output_type": "stream",
     "text": [
      "100%|██████████| 3630/3630 [00:02<00:00, 1462.03it/s]\n",
      "100%|██████████| 3630/3630 [00:26<00:00, 135.50it/s]\n",
      "100%|██████████| 2668/2668 [15:49<00:00,  2.81it/s]\n",
      "100%|██████████| 2315/2315 [00:01<00:00, 2026.03it/s]\n"
     ]
    }
   ],
   "source": [
    "data_numerical = pd.read_csv(\"data/train_dataset_Самолет.csv\", low_memory=False)\n",
    "data_numerical = do_target_before(data_numerical)\n",
    "data_numerical = do_count_befor(data_numerical)\n",
    "data_numerical = fill_id_na(data_numerical)\n",
    "data_numerical = do_num_feat(data_numerical)"
   ]
  },
  {
   "cell_type": "markdown",
   "metadata": {
    "id": "P0ITtSBK1CO4"
   },
   "source": [
    "## Concat features"
   ]
  },
  {
   "cell_type": "code",
   "execution_count": 37,
   "metadata": {
    "id": "Jlqs1W663FMc"
   },
   "outputs": [],
   "source": [
    "#data_numerical_backup = data_numerical.copy()\n",
    "#data_category_backup = data_category.copy()"
   ]
  },
  {
   "cell_type": "code",
   "execution_count": null,
   "metadata": {
    "id": "95e4ff61"
   },
   "outputs": [],
   "source": [
    "#anton_split = pd.read_csv(\"samolet_dataset.csv\", low_memory=False)"
   ]
  },
  {
   "cell_type": "code",
   "execution_count": 17,
   "metadata": {
    "id": "DQ7CQAmW3xe9"
   },
   "outputs": [],
   "source": [
    "numerical_features_list = ['mean_group_1', 'max_group_1',\n",
    "       'min_group_1', 'mean_group_2', 'max_group_2', 'min_group_2',\n",
    "       'mean_group_3', 'max_group_3', 'min_group_3', 'mean_group_4',\n",
    "       'max_group_4', 'min_group_4', 'mean_group_5', 'max_group_5',\n",
    "       'min_group_5', 'mean_group_6', 'max_group_6', 'min_group_6',\n",
    "       'mean_group_7', 'max_group_7', 'min_group_7', 'mean_group_8',\n",
    "       'max_group_8', 'min_group_8','count_befor',\n",
    "       'target_before']"
   ]
  },
  {
   "cell_type": "code",
   "execution_count": 39,
   "metadata": {
    "id": "7fcced08"
   },
   "outputs": [],
   "source": [
    "data_numerical = data_numerical[[\"report_date\", \"client_id\"]+numerical_features_list].merge(data_category, on=[\"report_date\", \"client_id\"], how='left')"
   ]
  },
  {
   "cell_type": "code",
   "execution_count": 40,
   "metadata": {
    "id": "0c3fc521"
   },
   "outputs": [],
   "source": [
    "train = data_numerical[data_numerical.test_flag=='train']\n",
    "oot = data_numerical[data_numerical.test_flag=='oot']\n",
    "oos = data_numerical[data_numerical.test_flag=='oos']"
   ]
  },
  {
   "cell_type": "code",
   "execution_count": 43,
   "metadata": {
    "id": "3199e6cf"
   },
   "outputs": [],
   "source": [
    "features_list = numerical_features_list + categorical_features_list"
   ]
  },
  {
   "cell_type": "code",
   "execution_count": 44,
   "metadata": {
    "colab": {
     "base_uri": "https://localhost:8080/"
    },
    "id": "02a1d93c",
    "outputId": "f90fe492-c5c7-413c-b1fd-ae9432689c24"
   },
   "outputs": [
    {
     "name": "stdout",
     "output_type": "stream",
     "text": [
      "Requirement already satisfied: catboost in /usr/local/lib/python3.10/dist-packages (1.2.1)\n",
      "Requirement already satisfied: graphviz in /usr/local/lib/python3.10/dist-packages (from catboost) (0.20.1)\n",
      "Requirement already satisfied: matplotlib in /usr/local/lib/python3.10/dist-packages (from catboost) (3.7.1)\n",
      "Requirement already satisfied: numpy>=1.16.0 in /usr/local/lib/python3.10/dist-packages (from catboost) (1.23.5)\n",
      "Requirement already satisfied: pandas>=0.24 in /usr/local/lib/python3.10/dist-packages (from catboost) (1.5.3)\n",
      "Requirement already satisfied: scipy in /usr/local/lib/python3.10/dist-packages (from catboost) (1.10.1)\n",
      "Requirement already satisfied: plotly in /usr/local/lib/python3.10/dist-packages (from catboost) (5.15.0)\n",
      "Requirement already satisfied: six in /usr/local/lib/python3.10/dist-packages (from catboost) (1.16.0)\n",
      "Requirement already satisfied: python-dateutil>=2.8.1 in /usr/local/lib/python3.10/dist-packages (from pandas>=0.24->catboost) (2.8.2)\n",
      "Requirement already satisfied: pytz>=2020.1 in /usr/local/lib/python3.10/dist-packages (from pandas>=0.24->catboost) (2023.3.post1)\n",
      "Requirement already satisfied: contourpy>=1.0.1 in /usr/local/lib/python3.10/dist-packages (from matplotlib->catboost) (1.1.0)\n",
      "Requirement already satisfied: cycler>=0.10 in /usr/local/lib/python3.10/dist-packages (from matplotlib->catboost) (0.11.0)\n",
      "Requirement already satisfied: fonttools>=4.22.0 in /usr/local/lib/python3.10/dist-packages (from matplotlib->catboost) (4.42.1)\n",
      "Requirement already satisfied: kiwisolver>=1.0.1 in /usr/local/lib/python3.10/dist-packages (from matplotlib->catboost) (1.4.5)\n",
      "Requirement already satisfied: packaging>=20.0 in /usr/local/lib/python3.10/dist-packages (from matplotlib->catboost) (23.1)\n",
      "Requirement already satisfied: pillow>=6.2.0 in /usr/local/lib/python3.10/dist-packages (from matplotlib->catboost) (9.4.0)\n",
      "Requirement already satisfied: pyparsing>=2.3.1 in /usr/local/lib/python3.10/dist-packages (from matplotlib->catboost) (3.1.1)\n",
      "Requirement already satisfied: tenacity>=6.2.0 in /usr/local/lib/python3.10/dist-packages (from plotly->catboost) (8.2.3)\n",
      "Learning rate set to 0.116626\n",
      "0:\ttest: 0.8517137\tbest: 0.8517137 (0)\ttotal: 252ms\tremaining: 50.1s\n",
      "50:\ttest: 0.8971369\tbest: 0.9036793 (19)\ttotal: 6.67s\tremaining: 19.5s\n",
      "100:\ttest: 0.8966142\tbest: 0.9036793 (19)\ttotal: 15.1s\tremaining: 14.8s\n",
      "Stopped by overfitting detector  (100 iterations wait)\n",
      "\n",
      "bestTest = 0.9036793163\n",
      "bestIteration = 19\n",
      "\n",
      "Shrink model to first 20 iterations.\n"
     ]
    },
    {
     "data": {
      "text/plain": [
       "<catboost.core.CatBoostClassifier at 0x7ff8ad355db0>"
      ]
     },
     "execution_count": 44,
     "metadata": {},
     "output_type": "execute_result"
    }
   ],
   "source": [
    "!pip install catboost\n",
    "from catboost import CatBoostClassifier, Pool, cv\n",
    "\n",
    "    #  обучение\n",
    "\n",
    "params = {\n",
    "    \"loss_function\": \"Logloss\",\n",
    "    \"eval_metric\": \"AUC\",\n",
    "    \"verbose\": 50,\n",
    "#     'learning_rate': 0.005,\n",
    "    \"od_type\": \"Iter\",\n",
    "    \"od_wait\": 100,\n",
    "    \"iterations\": 200,\n",
    "}\n",
    "\n",
    "id_cols = ['report_date', 'client_id', 'target']\n",
    "\n",
    "train_pool = Pool(train[features_list], train['target'], cat_features=categorical_features_list)\n",
    "val_pool = Pool(oos[features_list], oos['target'], cat_features=categorical_features_list)\n",
    "\n",
    "model = CatBoostClassifier(**params, random_state=7575)\n",
    "model.fit(train_pool, eval_set=val_pool)"
   ]
  },
  {
   "cell_type": "code",
   "execution_count": 46,
   "metadata": {
    "colab": {
     "base_uri": "https://localhost:8080/"
    },
    "id": "QIAlQtBK63pL",
    "outputId": "f8a1aefa-a84d-48ec-f974-3dafc8ff3161"
   },
   "outputs": [
    {
     "name": "stdout",
     "output_type": "stream",
     "text": [
      "\u001b[1m OOS \u001b[0m\n",
      "              precision    recall  f1-score   support\n",
      "\n",
      "           0       0.98      1.00      0.99      1878\n",
      "           1       1.00      0.59      0.74        82\n",
      "\n",
      "    accuracy                           0.98      1960\n",
      "   macro avg       0.99      0.79      0.86      1960\n",
      "weighted avg       0.98      0.98      0.98      1960\n",
      "\n",
      "\n",
      "\u001b[1m OOT \u001b[0m\n",
      "              precision    recall  f1-score   support\n",
      "\n",
      "           0       0.99      1.00      1.00       733\n",
      "           1       1.00      0.71      0.83        14\n",
      "\n",
      "    accuracy                           0.99       747\n",
      "   macro avg       1.00      0.86      0.92       747\n",
      "weighted avg       0.99      0.99      0.99       747\n",
      "\n"
     ]
    }
   ],
   "source": [
    "from sklearn.metrics import classification_report\n",
    "\n",
    "preds = model.predict_proba(val_pool)\n",
    "preds = [1 if val >= 0.5 else 0 for val in preds[:, 1]]\n",
    "print(\"\\033[1m OOS \\033[0m\")\n",
    "print(classification_report(oos['target'].astype(int), preds))\n",
    "print()\n",
    "\n",
    "oot_pool = Pool(oot[features_list], oot['target'], cat_features=categorical_features_list)\n",
    "preds = model.predict_proba(oot_pool)\n",
    "preds = [1 if val >= 0.5 else 0 for val in preds[:, 1]]\n",
    "print(\"\\033[1m OOT \\033[0m\")\n",
    "print(classification_report(oot['target'].astype(int), preds))"
   ]
  },
  {
   "cell_type": "code",
   "execution_count": 49,
   "metadata": {
    "colab": {
     "base_uri": "https://localhost:8080/",
     "height": 562
    },
    "id": "46de5bc3",
    "outputId": "4fd66872-b98a-4356-d462-7f1f81662b8e"
   },
   "outputs": [
    {
     "data": {
      "text/plain": [
       "Text(0.5, 1.0, 'Feature Importance')"
      ]
     },
     "execution_count": 49,
     "metadata": {},
     "output_type": "execute_result"
    },
    {
     "data": {
      "image/png": "[encoded data removed]",
      "text/plain": [
       "<Figure size 1200x600 with 1 Axes>"
      ]
     },
     "metadata": {},
     "output_type": "display_data"
    }
   ],
   "source": [
    "import matplotlib.pyplot as plt\n",
    "import numpy as np\n",
    "\n",
    "feature_importance = model.feature_importances_\n",
    "sorted_idx = np.argsort(feature_importance)[-20:]\n",
    "fig = plt.figure(figsize=(12, 6))\n",
    "plt.barh(range(len(sorted_idx)), feature_importance[sorted_idx], align='center')\n",
    "plt.yticks(range(len(sorted_idx)), np.array(features_list)[sorted_idx])\n",
    "plt.title('Feature Importance')"
   ]
  },
  {
   "cell_type": "code",
   "execution_count": null,
   "metadata": {
    "id": "71e98e33"
   },
   "outputs": [],
   "source": []
  },
  {
   "cell_type": "code",
   "execution_count": null,
   "metadata": {
    "id": "b5e7c324"
   },
   "outputs": [],
   "source": []
  },
  {
   "cell_type": "code",
   "execution_count": null,
   "metadata": {
    "id": "ktznDjkQtIqF"
   },
   "outputs": [],
   "source": []
  },
  {
   "cell_type": "code",
   "execution_count": null,
   "metadata": {
    "id": "2wS7kiGXtIno"
   },
   "outputs": [],
   "source": []
  },
  {
   "cell_type": "code",
   "execution_count": null,
   "metadata": {
    "id": "OcMx5S07tHZ3"
   },
   "outputs": [],
   "source": []
  }
 ],
 "metadata": {
  "colab": {
   "provenance": []
  },
  "kernelspec": {
   "display_name": "Python 3",
   "language": "python",
   "name": "python3"
  },
  "language_info": {
   "codemirror_mode": {
    "name": "ipython",
    "version": 3
   },
   "file_extension": ".py",
   "mimetype": "text/x-python",
   "name": "python",
   "nbconvert_exporter": "python",
   "pygments_lexer": "ipython3",
   "version": "3.8.10"
  }
 },
 "nbformat": 4,
 "nbformat_minor": 1
}
